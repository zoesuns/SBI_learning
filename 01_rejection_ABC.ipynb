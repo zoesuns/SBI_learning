{
 "cells": [
  {
   "cell_type": "markdown",
   "id": "6d434088",
   "metadata": {},
   "source": [
    "# Rejection Approximate Bayesian Computation"
   ]
  },
  {
   "cell_type": "code",
   "execution_count": 89,
   "id": "7332e221",
   "metadata": {},
   "outputs": [],
   "source": [
    "import numpy as np\n",
    "import matplotlib.pyplot as plt\n",
    "plt.rcParams[\"text.usetex\"]=True"
   ]
  },
  {
   "cell_type": "markdown",
   "id": "cb413461",
   "metadata": {},
   "source": [
    "## Basic idea and example"
   ]
  },
  {
   "cell_type": "markdown",
   "id": "2eabe93a",
   "metadata": {},
   "source": [
    "The following codes simulate "
   ]
  },
  {
   "cell_type": "code",
   "execution_count": 111,
   "id": "384c244d",
   "metadata": {},
   "outputs": [],
   "source": [
    "def simulator(theta):\n",
    "    if theta==0:\n",
    "        return np.random.randint(3)\n",
    "    elif theta==1:\n",
    "        tmp=np.random.uniform()\n",
    "        if tmp<0.5:\n",
    "            return 0\n",
    "        elif tmp>=0.5 and tmp<0.75:\n",
    "            return 1\n",
    "        else:\n",
    "            return 2\n",
    "    else:\n",
    "        print(\"theta can only be 0 or 1 (integer)\")\n",
    "        return -1\n",
    "    \n",
    "theta_bin_edges=np.array([-0.5,0.5,1.5])\n",
    "x_bin_edges=np.array([-0.5,0.5,1.5,2.5])\n",
    "\n",
    "theta_bin=np.array([0,1])\n",
    "x_bin=np.array([0,1,2])"
   ]
  },
  {
   "cell_type": "code",
   "execution_count": 112,
   "id": "acc6f127",
   "metadata": {},
   "outputs": [],
   "source": [
    "# suppose we have a prior of Bernoulli distribution with p=0.5 (Bern(0.5))\n",
    "def prior(n=1):\n",
    "    theta=np.random.randint(2,size=n)\n",
    "    return theta"
   ]
  },
  {
   "cell_type": "code",
   "execution_count": 113,
   "id": "1eb4c527",
   "metadata": {},
   "outputs": [],
   "source": [
    "n_prior=10000"
   ]
  },
  {
   "cell_type": "code",
   "execution_count": 117,
   "id": "526a79d3",
   "metadata": {},
   "outputs": [
    {
     "data": {
      "image/png": "[encoded data removed]",
      "text/plain": [
       "<Figure size 400x300 with 1 Axes>"
      ]
     },
     "metadata": {},
     "output_type": "display_data"
    }
   ],
   "source": [
    "prior_sampling=prior(n_prior)\n",
    "plt.figure(figsize=(4,3))\n",
    "plt.hist(prior_sampling)\n",
    "plt.title(\"prior distribution (unnormalized)\")\n",
    "plt.xlabel(r\"$\\theta$\")\n",
    "plt.show()"
   ]
  },
  {
   "cell_type": "code",
   "execution_count": 118,
   "id": "60c95e3a",
   "metadata": {},
   "outputs": [],
   "source": [
    "x_sim=[]\n",
    "for i in range(n_prior):\n",
    "    x_sim.append(simulator(prior_sampling[i]))"
   ]
  },
  {
   "cell_type": "code",
   "execution_count": 119,
   "id": "d2825700",
   "metadata": {},
   "outputs": [
    {
     "data": {
      "image/png": "[encoded data removed]",
      "text/plain": [
       "<Figure size 400x300 with 1 Axes>"
      ]
     },
     "metadata": {},
     "output_type": "display_data"
    }
   ],
   "source": [
    "plt.figure(figsize=(4,3))\n",
    "plt.hist(x_sim)\n",
    "plt.title(\"simulated observation data distribution \\n assuming the above prior\")\n",
    "plt.xlabel(r\"$x$\")\n",
    "plt.show()"
   ]
  },
  {
   "cell_type": "code",
   "execution_count": 120,
   "id": "3fbf02ca",
   "metadata": {},
   "outputs": [],
   "source": [
    "# rejection (accept/discard sampling point according to x_sim)\n",
    "x_obs=1\n",
    "posterior_sampling=[]\n",
    "for i in range(n_prior):\n",
    "    if x_sim[i]==x_obs:\n",
    "        posterior_sampling.append(prior_sampling[i])"
   ]
  },
  {
   "cell_type": "code",
   "execution_count": 121,
   "id": "c770f9ec",
   "metadata": {},
   "outputs": [],
   "source": [
    "# plt.hist(posterior_sampling)\n",
    "posterior_sampling=np.array(posterior_sampling)"
   ]
  },
  {
   "cell_type": "code",
   "execution_count": 122,
   "id": "6cbfeffa",
   "metadata": {},
   "outputs": [
    {
     "data": {
      "text/plain": [
       "0.5725085910652921"
      ]
     },
     "execution_count": 122,
     "metadata": {},
     "output_type": "execute_result"
    }
   ],
   "source": [
    "float(np.sum(posterior_sampling==0))/len(posterior_sampling)"
   ]
  },
  {
   "cell_type": "code",
   "execution_count": 125,
   "id": "cded274b",
   "metadata": {},
   "outputs": [
    {
     "data": {
      "image/png": "[encoded data removed]",
      "text/plain": [
       "<Figure size 400x300 with 1 Axes>"
      ]
     },
     "metadata": {},
     "output_type": "display_data"
    }
   ],
   "source": [
    "plt.figure(figsize=(4,3))\n",
    "val,_=np.histogram(posterior_sampling,theta_bin_edges)\n",
    "plt.bar([0,1],val/np.sum(val))\n",
    "plt.title(\"posterior distribution\")\n",
    "plt.xlabel(r\"$\\theta$\")\n",
    "plt.show()"
   ]
  },
  {
   "cell_type": "markdown",
   "id": "987ebb95",
   "metadata": {},
   "source": [
    "#### efficiency"
   ]
  },
  {
   "cell_type": "code",
   "execution_count": null,
   "id": "9d43be59",
   "metadata": {},
   "outputs": [],
   "source": []
  },
  {
   "cell_type": "code",
   "execution_count": null,
   "id": "5ca926da",
   "metadata": {},
   "outputs": [],
   "source": []
  },
  {
   "cell_type": "markdown",
   "id": "956078b9",
   "metadata": {},
   "source": [
    "## continuous case\n"
   ]
  },
  {
   "cell_type": "markdown",
   "id": "7cdb5a07",
   "metadata": {},
   "source": [
    "In the continuous case, it's inapproapriate to discard points basing on x_obs==x_sim since they would almost never the same exactly. Therefore we need modify the algorithm (accepting \"close enough x\")"
   ]
  },
  {
   "cell_type": "markdown",
   "id": "6ad07790",
   "metadata": {},
   "source": [
    "#### ! often times we need summary statistics S(x) to lower the dimensionality\n",
    "#### ! define \"close\" enough"
   ]
  },
  {
   "cell_type": "markdown",
   "id": "3a60637d",
   "metadata": {},
   "source": [
    "Buiding Blocks:\n",
    "1. x_obs, \n",
    "    often times also summary statistics S(x)\n",
    "2. prior $\\pi(\\theta)$\n",
    "3. simulate x_sim\n",
    "4. a distance metric  $\\rho, || \\cdot||, d$\n",
    "5. a threshold $\\epsilon$ defines what is \"close\" enough"
   ]
  },
  {
   "cell_type": "markdown",
   "id": "91d95ad8",
   "metadata": {},
   "source": [
    "Pseudo-code:\n",
    "1. draw $\\theta$ from the prior\n",
    "2. simulate x_sim\n",
    "3. calculate summary statistic\n",
    "    may use S(x)=x if dimentionality is not a problem\n",
    "4. determine whether to accept or reject: \n",
    "    if $||\\cdot|| < \\epsilon$ accept\n"
   ]
  },
  {
   "cell_type": "markdown",
   "id": "d03e4ff6",
   "metadata": {},
   "source": [
    "### an example of continuous x"
   ]
  },
  {
   "cell_type": "code",
   "execution_count": 152,
   "id": "09b540e0",
   "metadata": {},
   "outputs": [],
   "source": [
    "from scipy.stats import binom, norm, gaussian_kde\n",
    "def simulator(param,n):\n",
    "    z=binom.rvs(n=1, p=0.75, size=n)\n",
    "    \n",
    "    h1=norm.rvs(loc=param[0],size=n)\n",
    "    h2=norm.rvs(loc=param[1],size=n)\n",
    "    x=h1*z+h2*(1-z)\n",
    "    return x"
   ]
  },
  {
   "cell_type": "code",
   "execution_count": 150,
   "id": "8378ea20",
   "metadata": {},
   "outputs": [],
   "source": [
    "param=(-5,5)\n",
    "n=20000"
   ]
  },
  {
   "cell_type": "code",
   "execution_count": 153,
   "id": "ccb12efa",
   "metadata": {},
   "outputs": [],
   "source": [
    "x_obs=simulator(param,n)"
   ]
  },
  {
   "cell_type": "code",
   "execution_count": 160,
   "id": "bb7ccc0d",
   "metadata": {},
   "outputs": [
    {
     "data": {
      "image/png": "[encoded data removed]",
      "text/plain": [
       "<Figure size 640x480 with 1 Axes>"
      ]
     },
     "metadata": {},
     "output_type": "display_data"
    }
   ],
   "source": [
    "# import seaborn as sns # easy plotting\n",
    "density = gaussian_kde(x_obs)\n",
    "xs = np.linspace(-10,10,200)\n",
    "density.covariance_factor = lambda : 0.01\n",
    "density._compute_covariance()\n",
    "plt.plot(xs,density(xs))\n",
    "\n",
    "density.covariance_factor = lambda : .1\n",
    "density._compute_covariance()\n",
    "plt.plot(xs,density(xs))\n",
    "\n",
    "plt.show()"
   ]
  },
  {
   "cell_type": "code",
   "execution_count": 161,
   "id": "b9f92e60",
   "metadata": {},
   "outputs": [
    {
     "ename": "SyntaxError",
     "evalue": "incomplete input (3463894201.py, line 3)",
     "output_type": "error",
     "traceback": [
      "\u001b[0;36m  Cell \u001b[0;32mIn[161], line 3\u001b[0;36m\u001b[0m\n\u001b[0;31m    \u001b[0m\n\u001b[0m    ^\u001b[0m\n\u001b[0;31mSyntaxError\u001b[0m\u001b[0;31m:\u001b[0m incomplete input\n"
     ]
    }
   ],
   "source": [
    "# summary statsitic\n",
    "def summaryS(x):\n",
    "    mean=\n",
    "    "
   ]
  },
  {
   "cell_type": "code",
   "execution_count": null,
   "id": "64105782",
   "metadata": {},
   "outputs": [],
   "source": []
  }
 ],
 "metadata": {
  "kernelspec": {
   "display_name": "Python 3 (ipykernel)",
   "language": "python",
   "name": "python3"
  },
  "language_info": {
   "codemirror_mode": {
    "name": "ipython",
    "version": 3
   },
   "file_extension": ".py",
   "mimetype": "text/x-python",
   "name": "python",
   "nbconvert_exporter": "python",
   "pygments_lexer": "ipython3",
   "version": "3.10.9"
  }
 },
 "nbformat": 4,
 "nbformat_minor": 5
}
